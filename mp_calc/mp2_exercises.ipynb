{
 "cells": [
  {
   "cell_type": "markdown",
   "metadata": {},
   "source": [
    "# Mini Project: Sorting and Evaluating Math Expressions"
   ]
  },
  {
   "cell_type": "markdown",
   "metadata": {},
   "source": [
    "## Week 3"
   ]
  },
  {
   "cell_type": "markdown",
   "metadata": {},
   "source": [
    "**Q1.** *Mergesort:* Modify your `mergesort(array)` function that you did in your cohort session to take one additional argument called `byfunc`, i.e. `mergesort(array, byfunc)`. If the caller does not specify the value of `byfunc`, its default value is `None`. When this argument is `None`, the function `mergesort` behaves similar to your cohort session by sorting the array according to its values. However, when the value of this argument is not `None` but rather some other function, your `mergesort` function should sort the array according to the value returned by this function. \n",
    "\n",
    "For example, instead of sorting an array of integers, we want to sort an array of tupple.\n",
    "```python\n",
    "array = [(1, 2), (3, 2), (2, -1), (4, 7), (-1, -2)]\n",
    "```\n",
    "We can define a function say `select()` as follows:\n",
    "```python\n",
    "def select(item):\n",
    "    return item[0]\n",
    "```\n",
    "\n",
    "You can then should be able to call your `mergesort()` function in the following:\n",
    "```python\n",
    "mergesort(array, select)\n",
    "```\n",
    "which will sort the list of tuples according to the value of its *first* element (recall `item[0]` in `select()`). This means that if you want to sort based on the *second* element of the tuple, you can redefine select as:\n",
    "```python\n",
    "def select(item):\n",
    "    return item[1]\n",
    "```\n",
    "\n",
    "You can also apply this to a list of objects, say `User` class objects.\n",
    "```python\n",
    "array = [<User 1>, <User 2>, <User 3>, ..., <User 101>]\n",
    "```\n",
    "You can define the following `select()` function to sort according to its `username` attribute.\n",
    "```python\n",
    "def select(item):\n",
    "    return item.username\n",
    "```\n",
    "\n",
    "You can then call the `mergesort()` function as follows:\n",
    "```python\n",
    "mergesort(array, select)\n",
    "```\n",
    "\n",
    "Python allows you to write [lambda functions](https://realpython.com/python-lambda/) to replace your `select()` function definition. You can simply call merge sort with the following without defining `select()`.\n",
    "```python\n",
    "mergesort(array, lambda item: item.username)\n",
    "```"
   ]
  },
  {
   "cell_type": "code",
   "execution_count": 4,
   "metadata": {},
   "outputs": [],
   "source": [
    "def mergesort(array, byfunc=None):\n",
    "  pass"
   ]
  },
  {
   "cell_type": "code",
   "execution_count": 5,
   "metadata": {},
   "outputs": [],
   "source": [
    "array = [(1, 2), (3, 2), (2, -1), (4, 7), (-1, -2)]\n",
    "mergesort(array, lambda item: item[0])\n",
    "assert array == [(-1, -2), (1, 2), (2, -1), (3, 2), (4, 7)]\n",
    "mergesort(array, lambda item: item[1])\n",
    "assert array == [(-1, -2), (2, -1), (1, 2), (3, 2), (4, 7)]"
   ]
  },
  {
   "cell_type": "markdown",
   "metadata": {},
   "source": [
    "**Q2.** Create a class called `EvaluateExpression` to evaluate mathematical expressions for Integers. The class has the following property:\n",
    "- `expression`: which is a property with a get and set method. The set method of this property should check if the string contains any invalid characters. If there is any invalid character, it should set the internal property `expr` to an empty String. Otherwise, it should set the string as it is. Valid characters are: `0123456789+-*/()` and an empty space.\n",
    "- `expr`: which is a property that stores only valid expression. It is used internally to store the expression.\n",
    "\n",
    "During object instantiation, a string can be passed on to `__init__()`.\n",
    "- `__init__(expr)`: where expr is the mathematical expression to initialize the property `expr`. If nothing is provided it should initialize to an empty String. If the string contains other characters besides those in the valid characters list above, the property `expr` should be initialized to an empty string.\n",
    "\n",
    "\n"
   ]
  },
  {
   "cell_type": "code",
   "execution_count": 51,
   "metadata": {},
   "outputs": [],
   "source": [
    "class EvaluateExpression:\n",
    "  valid_char = '0123456789+-*/() '\n",
    "  def __init__(self, string=\"\"):\n",
    "    self.expr = string if self.is_valid_string(string) else ''\n",
    "\n",
    "  @property\n",
    "  def expression(self):\n",
    "    return self.expr\n",
    "\n",
    "  @expression.setter\n",
    "  def expression(self, new_expr):\n",
    "    self.expr = new_expr if self.is_valid_string(new_expr) else ''\n",
    "  \n",
    "  def is_valid_string(self, string):\n",
    "    for char in string:\n",
    "      if char not in self.valid_char:\n",
    "        return False\n",
    "    return True\n",
    "      \n",
    "\n",
    "  "
   ]
  },
  {
   "cell_type": "code",
   "execution_count": 52,
   "metadata": {},
   "outputs": [
    {
     "output_type": "stream",
     "name": "stdout",
     "text": [
      "\n\n12 \n"
     ]
    }
   ],
   "source": [
    "eval = EvaluateExpression(\"abc\")\n",
    "print(eval.expression)\n",
    "eval.expression = \"abc\"\n",
    "print(eval.expression)\n",
    "eval.expression = \"12 \"\n",
    "print(eval.expression)"
   ]
  },
  {
   "cell_type": "code",
   "execution_count": 53,
   "metadata": {},
   "outputs": [],
   "source": [
    "expr1 = EvaluateExpression()\n",
    "assert expr1.expression == \"\"\n",
    "expr2 = EvaluateExpression(\"1 + 2\")\n",
    "assert expr2.expression == \"1 + 2\"\n",
    "expr2.expression = \"3 * 4\"\n",
    "assert expr2.expression == \"3 * 4\"\n",
    "expr2.expression = \"3 & 4\"\n",
    "assert expr2.expression == \"\""
   ]
  },
  {
   "cell_type": "markdown",
   "metadata": {},
   "source": [
    "**Q3.** The class `EvaluateExpression` also has the following method:\n",
    "- `insert_space()`: which is used to insert one empty space before an operator and another empty space after the operator in the `expression` property. The function should return a new String. Note that this means that if there are two operators side by side, there will be two empty space between them.\n",
    "\n"
   ]
  },
  {
   "cell_type": "code",
   "execution_count": 74,
   "metadata": {},
   "outputs": [],
   "source": [
    "class EvaluateExpression:\n",
    "  valid_char = '0123456789+-*/() '\n",
    "  def __init__(self, string=\"\"):\n",
    "    self.expr = string if self.is_valid_string(string) else ''\n",
    "\n",
    "  @property\n",
    "  def expression(self):\n",
    "    return self.expr\n",
    "\n",
    "  @expression.setter\n",
    "  def expression(self, new_expr):\n",
    "    self.expr = new_expr if self.is_valid_string(new_expr) else ''\n",
    "  \n",
    "  def is_valid_string(self, string):\n",
    "    for char in string:\n",
    "      if char not in self.valid_char:\n",
    "        return False\n",
    "    return True\n",
    "\n",
    "  def is_operator(self, string):\n",
    "    operators = '+-*/()'\n",
    "    return string in operators\n",
    "\n",
    "  def insert_space(self):\n",
    "    new_expr = ''\n",
    "    for char in self.expr:\n",
    "      # Throw out existing spaces in expression\n",
    "      if char == ' ':\n",
    "        continue\n",
    "      # Add spaces next to operators\n",
    "      if self.is_operator(char):\n",
    "        new_expr += f\" {char} \"\n",
    "      # Keep operands as-is\n",
    "      else:\n",
    "        new_expr += char\n",
    "    return new_expr"
   ]
  },
  {
   "cell_type": "code",
   "execution_count": 75,
   "metadata": {},
   "outputs": [
    {
     "output_type": "stream",
     "name": "stdout",
     "text": [
      " ( 1 + 2 ) \n ( 1 + 2 ) \n"
     ]
    }
   ],
   "source": [
    "expr1 = EvaluateExpression(\"(1+2)\")\n",
    "print(expr1.insert_space())\n",
    "expr2 = EvaluateExpression(\"(1 +2)\")\n",
    "print(expr1.insert_space())"
   ]
  },
  {
   "cell_type": "code",
   "execution_count": 76,
   "metadata": {},
   "outputs": [],
   "source": [
    "expr1 = EvaluateExpression(\"(1+2)\")\n",
    "assert expr1.insert_space() == \" ( 1 + 2 ) \"\n",
    "expr1.expression = \"((1+2)*3/(4-5))\"\n",
    "assert expr1.insert_space() == \" (  ( 1 + 2 )  * 3 /  ( 4 - 5 )  ) \"\n"
   ]
  },
  {
   "cell_type": "markdown",
   "metadata": {},
   "source": [
    "## Week 4"
   ]
  },
  {
   "cell_type": "markdown",
   "metadata": {},
   "source": [
    "**Q4.** The class `EvaluateExpression` also has the following methods:\n",
    "- `process_operator(operand_stack, operator_stack)`: which process one operator. This method should modify the Stacks provided in the arguments. Note that the division operator `/` should be considered as an integer division for this exercise. This means that you need to use `//` in Python."
   ]
  },
  {
   "cell_type": "code",
   "execution_count": 67,
   "metadata": {},
   "outputs": [],
   "source": [
    "class Stack:\n",
    "  def __init__(self):\n",
    "        self.__items = []\n",
    "        \n",
    "  def push(self, item):\n",
    "      self.__items.append(item)\n",
    "      pass\n",
    "\n",
    "  def pop(self):\n",
    "      if self.is_empty:\n",
    "          return None\n",
    "      else:\n",
    "          return self.__items.pop()\n",
    "      pass\n",
    "\n",
    "  def peek(self):\n",
    "      return self.__items[-1]\n",
    "      pass\n",
    "\n",
    "  @property\n",
    "  def is_empty(self):\n",
    "      return len(self.__items) == 0\n",
    "      pass\n",
    "\n",
    "  @property\n",
    "  def size(self):\n",
    "      return len(self.__items)\n",
    "      pass\n"
   ]
  },
  {
   "cell_type": "code",
   "execution_count": 79,
   "metadata": {},
   "outputs": [],
   "source": [
    "class EvaluateExpression:\n",
    "  valid_char = '0123456789+-*/() '\n",
    "  def __init__(self, string=\"\"):\n",
    "    self.expr = string if self.is_valid_string(string) else ''\n",
    "\n",
    "  @property\n",
    "  def expression(self):\n",
    "    return self.expr\n",
    "\n",
    "  @expression.setter\n",
    "  def expression(self, new_expr):\n",
    "    self.expr = new_expr if self.is_valid_string(new_expr) else ''\n",
    "  \n",
    "  def is_valid_string(self, string):\n",
    "    for char in string:\n",
    "      if char not in self.valid_char:\n",
    "        return False\n",
    "    return True\n",
    "\n",
    "  def is_operator(self, string):\n",
    "    operators = '+-*/()'\n",
    "    return string in operators\n",
    "\n",
    "  def insert_space(self):\n",
    "    new_expr = ''\n",
    "    for char in self.expr:\n",
    "      # Throw out existing spaces in expression\n",
    "      if char == ' ':\n",
    "        continue\n",
    "      # Add spaces next to operators\n",
    "      if self.is_operator(char):\n",
    "        new_expr += f\" {char} \"\n",
    "      # Keep operands as-is\n",
    "      else:\n",
    "        new_expr += char\n",
    "    return new_expr\n",
    "\n",
    "  def process_operator(self, operand_stack, operator_stack):\n",
    "    while not operator_stack.is_empty:\n",
    "      op1 = operand_stack.pop()\n",
    "      op2 = operand_stack.pop()\n",
    "      operator = operator_stack.pop()\n",
    "      if operator == '+':\n",
    "        operand_stack.push(op2 + op1)\n",
    "      elif operator == '-':\n",
    "        operand_stack.push(op2 - op1)\n",
    "      elif operator == '*':\n",
    "        operand_stack.push(op2 * op1)\n",
    "      elif operator == '/':\n",
    "        operand_stack.push(op2 // op1)\n",
    "\n",
    "    \n",
    "  "
   ]
  },
  {
   "cell_type": "code",
   "execution_count": 80,
   "metadata": {},
   "outputs": [],
   "source": [
    "expr1 = EvaluateExpression()\n",
    "operand_stack = Stack()\n",
    "operator_stack = Stack()\n",
    "operand_stack.push(3)\n",
    "operand_stack.push(4)\n",
    "operator_stack.push(\"+\")\n",
    "expr1.process_operator(operand_stack, operator_stack)\n",
    "assert operand_stack.peek() == 7\n",
    "operand_stack.push(5)\n",
    "operator_stack.push(\"*\")\n",
    "expr1.process_operator(operand_stack, operator_stack)\n",
    "assert operand_stack.peek() == 35\n",
    "operand_stack.push(30)\n",
    "operator_stack.push(\"-\")\n",
    "expr1.process_operator(operand_stack, operator_stack)\n",
    "assert operand_stack.peek() == 5\n",
    "operand_stack.push(2)\n",
    "operator_stack.push(\"/\")\n",
    "expr1.process_operator(operand_stack, operator_stack)\n",
    "assert operand_stack.peek() == 2"
   ]
  },
  {
   "cell_type": "markdown",
   "metadata": {},
   "source": [
    "**Q5.** The class `EvaluateExpression` also has the following methods:\n",
    "- `evaluate()`: which evaluate the mathematical expression contained in the property `expression`. The method should return an Integer. This method contains two processes:\n",
    "    - Phase 1: In this phase, the code scans the expression from left to right to extract operands, operators, and the parentheses.\n",
    "        1. If the extracted character is an operand, push it to `operand_stack`.\n",
    "        1. If the extracted character is + or - operator, process  all the operators at the top of the `operator_stack` and push the extracted operator to `operator_stack`. You should process all the operators as long as the `operator_stack` is not empty and the top of the `operator_stack` is not `(` or `)` symbols.\n",
    "        1. If the extracted character is a `*` or `/` operator, process all the `*` or `/` operators at the top of the `operator_stack` and push the extracted operator to `operator_stack`. \n",
    "        1. If the extracted character is a `(` symbol, push it to `operator_stack`.\n",
    "        1. If the extracted character is a `)` symbol, repeatedly process the operators from the top of `operator_stack` until seeing the `(` symbol on the stack. \n",
    "    - Phase 2: Repeatedly process the operators from the top of `operator_stack` until `operator_stack` is empty.\n"
   ]
  },
  {
   "cell_type": "code",
   "execution_count": 183,
   "metadata": {},
   "outputs": [],
   "source": [
    "class EvaluateExpression:\n",
    "  valid_char = '0123456789+-*/() '\n",
    "  def __init__(self, string=\"\"):\n",
    "    self.expr = string if self.is_valid_string(string) else ''\n",
    "\n",
    "  @property\n",
    "  def expression(self):\n",
    "    return self.expr\n",
    "\n",
    "  @expression.setter\n",
    "  def expression(self, new_expr):\n",
    "    self.expr = new_expr if self.is_valid_string(new_expr) else ''\n",
    "  \n",
    "  def is_valid_string(self, string):\n",
    "    for char in string:\n",
    "      if char not in self.valid_char:\n",
    "        return False\n",
    "    return True\n",
    "\n",
    "  def is_operator(self, string):\n",
    "    operators = '+-*/()'\n",
    "    return string in operators\n",
    "\n",
    "  def is_parenthesis(self, string):\n",
    "    return string == '(' or string == ')'\n",
    "\n",
    "  def insert_space(self):\n",
    "    new_expr = ''\n",
    "    for char in self.expr:\n",
    "      # Throw out existing spaces in expression\n",
    "      if char == ' ':\n",
    "        continue\n",
    "      # Add spaces next to operators\n",
    "      if self.is_operator(char):\n",
    "        new_expr += f\" {char} \"\n",
    "      # Keep operands as-is\n",
    "      else:\n",
    "        new_expr += char\n",
    "    return new_expr\n",
    "\n",
    "  def process_operator(self, operand_stack, operator_stack):\n",
    "    while not operator_stack.is_empty:\n",
    "      op1 = int(operand_stack.pop())\n",
    "      op2 = int(operand_stack.pop())\n",
    "      operator = operator_stack.pop()\n",
    "      if operator == '+':\n",
    "        operand_stack.push(op2 + op1)\n",
    "      elif operator == '-':\n",
    "        operand_stack.push(op2 - op1)\n",
    "      elif operator == '*':\n",
    "        operand_stack.push(op2 * op1)\n",
    "      elif operator == '/':\n",
    "        operand_stack.push(op2 // op1)\n",
    "\n",
    "  def evaluate(self):\n",
    "    operand_stack = Stack()\n",
    "    operator_stack = Stack()\n",
    "    expression = self.insert_space()\n",
    "    tokens = expression.split()\n",
    "    \n",
    "    for char in tokens:\n",
    "      operator_substack = Stack()\n",
    "      temp_arr = []\n",
    "      if not self.is_operator(char) and char != ' ':\n",
    "        operand_stack.push(char)\n",
    "      elif char == '+' or char == '-':\n",
    "        # Get all operators in stack before the first '(' or ')' operator\n",
    "        while not operator_stack.is_empty and not self.is_parenthesis(operator_stack.peek()):\n",
    "          temp_arr.append(operator_stack.pop())\n",
    "        while len(temp_arr) != 0:\n",
    "            operator_substack.push(temp_arr.pop())\n",
    "        # Process all operators in operator substack\n",
    "        self.process_operator(operand_stack, operator_substack)\n",
    "        operator_stack.push(char)\n",
    "      elif char == '*' or char == '/':\n",
    "        # Get all operators at top of stack which are '*' or '/'\n",
    "        if not operator_stack.is_empty:\n",
    "          operator_substack = Stack()\n",
    "          while operator_stack.peek() == '*' or operator_stack.peek() == '/':\n",
    "            temp_arr.append(operator_stack.pop())\n",
    "          while len(temp_arr) != 0:\n",
    "            operator_substack.push(temp_arr.pop())\n",
    "          # Process all operators in operator substack\n",
    "          self.process_operator(operand_stack, operator_substack)\n",
    "        operator_stack.push(char)\n",
    "      elif char == '(':\n",
    "        operator_stack.push(char)\n",
    "      elif char == ')':\n",
    "        # Get all operators in stack before the first '(' operator\n",
    "        if not operator_stack.is_empty:\n",
    "          operator_substack = Stack()\n",
    "          while not operator_stack.peek() == '(':\n",
    "            temp_arr.append(operator_stack.pop())\n",
    "          while len(temp_arr) != 0:\n",
    "            operator_substack.push(temp_arr.pop())\n",
    "          if operator_stack.peek() == '(':\n",
    "            operator_stack.pop()\n",
    "          self.process_operator(operand_stack, operator_substack)\n",
    "\n",
    "    while not operator_stack.is_empty:\n",
    "      self.process_operator(operand_stack, operator_stack)\n",
    "    \n",
    "    result = operand_stack.pop()\n",
    "    return int(result)\n"
   ]
  },
  {
   "cell_type": "code",
   "execution_count": 184,
   "metadata": {
    "tags": []
   },
   "outputs": [
    {
     "output_type": "stream",
     "name": "stdout",
     "text": [
      "9\n"
     ]
    }
   ],
   "source": [
    "expr1 = EvaluateExpression(\"(1+2)*3\")\n",
    "print(expr1.evaluate())"
   ]
  },
  {
   "cell_type": "code",
   "execution_count": 185,
   "metadata": {},
   "outputs": [],
   "source": [
    "expr1 = EvaluateExpression(\"(1+2)*3\")\n",
    "assert expr1.evaluate() == 9\n",
    "expr1.expression = \"(1 + 2) * 4 - 3\"\n",
    "assert expr1.evaluate() == 9\n",
    "expr2 = EvaluateExpression(\"(1+2 *4-  3)* (7/5 * 6)\")\n",
    "assert expr2.evaluate() == 36"
   ]
  },
  {
   "cell_type": "code",
   "execution_count": 186,
   "metadata": {},
   "outputs": [
    {
     "output_type": "stream",
     "name": "stdout",
     "text": [
      "<class 'int'> 36\n"
     ]
    }
   ],
   "source": [
    "expr2 = EvaluateExpression(\"(1+2 *4-  3)* (7/5 * 6)\")\n",
    "print(type(expr2.evaluate()), expr2.evaluate())"
   ]
  },
  {
   "cell_type": "code",
   "execution_count": null,
   "metadata": {},
   "outputs": [],
   "source": []
  }
 ],
 "metadata": {
  "kernelspec": {
   "name": "python3",
   "display_name": "Python 3.8.5 64-bit ('virtenv': venv)",
   "metadata": {
    "interpreter": {
     "hash": "f5dd24f16809926d87c2adfb724aa325c95ab140e32ce8aa05b4653a21f3a54c"
    }
   }
  },
  "language_info": {
   "codemirror_mode": {
    "name": "ipython",
    "version": 3
   },
   "file_extension": ".py",
   "mimetype": "text/x-python",
   "name": "python",
   "nbconvert_exporter": "python",
   "pygments_lexer": "ipython3",
   "version": "3.8.5"
  }
 },
 "nbformat": 4,
 "nbformat_minor": 4
}